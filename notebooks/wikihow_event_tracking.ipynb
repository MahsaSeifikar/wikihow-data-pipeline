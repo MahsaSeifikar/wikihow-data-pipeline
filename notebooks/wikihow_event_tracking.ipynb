{
 "cells": [
  {
   "cell_type": "markdown",
   "metadata": {},
   "source": [
    "# Event Tracking on WikiHow Website"
   ]
  },
  {
   "cell_type": "code",
   "execution_count": 220,
   "metadata": {},
   "outputs": [],
   "source": [
    "import os\n",
    "import string\n",
    "\n",
    "import pandas as pd\n",
    "from nltk.corpus import stopwords\n",
    "from nltk.tokenize import word_tokenize\n",
    "from nltk.stem.porter import PorterStemmer\n",
    "from sklearn.feature_extraction.text import TfidfVectorizer\n",
    "from sklearn.cluster import KMeans\n",
    "from sklearn.metrics import silhouette_score"
   ]
  },
  {
   "cell_type": "markdown",
   "metadata": {},
   "source": [
    "## Data Collection"
   ]
  },
  {
   "cell_type": "code",
   "execution_count": 3,
   "metadata": {},
   "outputs": [],
   "source": [
    "DATA_PATH = os.path.dirname(os.getcwd())+'/data/processed/trend/'"
   ]
  },
  {
   "cell_type": "code",
   "execution_count": 149,
   "metadata": {},
   "outputs": [],
   "source": [
    "df = pd.DataFrame()\n",
    "for file in os.listdir(DATA_PATH):\n",
    "    df = df.append(pd.read_csv(os.path.join(DATA_PATH, file), index_col=0), ignore_index=True)\n",
    "    break"
   ]
  },
  {
   "cell_type": "code",
   "execution_count": 150,
   "metadata": {},
   "outputs": [
    {
     "data": {
      "text/html": [
       "<div>\n",
       "<style scoped>\n",
       "    .dataframe tbody tr th:only-of-type {\n",
       "        vertical-align: middle;\n",
       "    }\n",
       "\n",
       "    .dataframe tbody tr th {\n",
       "        vertical-align: top;\n",
       "    }\n",
       "\n",
       "    .dataframe thead th {\n",
       "        text-align: right;\n",
       "    }\n",
       "</style>\n",
       "<table border=\"1\" class=\"dataframe\">\n",
       "  <thead>\n",
       "    <tr style=\"text-align: right;\">\n",
       "      <th></th>\n",
       "      <th>date_crawled</th>\n",
       "      <th>title</th>\n",
       "      <th>date_published</th>\n",
       "      <th>date_modified</th>\n",
       "      <th>n_views</th>\n",
       "      <th>n_votes</th>\n",
       "      <th>mean_votes</th>\n",
       "      <th>description</th>\n",
       "      <th>steps</th>\n",
       "    </tr>\n",
       "  </thead>\n",
       "  <tbody>\n",
       "    <tr>\n",
       "      <th>0</th>\n",
       "      <td>2020-03-28</td>\n",
       "      <td>How to Make Hand Sanitizer: 8 Steps (with Pict...</td>\n",
       "      <td>2008-03-09</td>\n",
       "      <td>2020-03-20</td>\n",
       "      <td>1,962,384</td>\n",
       "      <td>92</td>\n",
       "      <td>91</td>\n",
       "      <td>\\nWashing your hands with soap is better, but ...</td>\n",
       "      <td>[{'@type': 'HowToSection', 'name': 'Alcohol-Ba...</td>\n",
       "    </tr>\n",
       "    <tr>\n",
       "      <th>1</th>\n",
       "      <td>2020-03-28</td>\n",
       "      <td>3 Ways to Play UNO - wikiHow</td>\n",
       "      <td>2007-07-28</td>\n",
       "      <td>2020-03-27</td>\n",
       "      <td>2,877,878</td>\n",
       "      <td>200</td>\n",
       "      <td>74</td>\n",
       "      <td>\\nIf you're looking for a fun card game to pla...</td>\n",
       "      <td>[{'@type': 'HowToSection', 'name': 'Jumping in...</td>\n",
       "    </tr>\n",
       "    <tr>\n",
       "      <th>2</th>\n",
       "      <td>2020-03-28</td>\n",
       "      <td>3 Easy Ways to Stay Productive While Working f...</td>\n",
       "      <td>2020-03-13</td>\n",
       "      <td>2020-03-26</td>\n",
       "      <td>3,742</td>\n",
       "      <td>9</td>\n",
       "      <td>78</td>\n",
       "      <td>\\nWorking from home offers a wonderful level o...</td>\n",
       "      <td>[{'@type': 'HowToSection', 'name': 'Organizing...</td>\n",
       "    </tr>\n",
       "    <tr>\n",
       "      <th>3</th>\n",
       "      <td>2020-03-28</td>\n",
       "      <td>How to Make Disinfectant Wipes: 14 Steps (with...</td>\n",
       "      <td>2020-03-12</td>\n",
       "      <td>2020-03-25</td>\n",
       "      <td>5,348</td>\n",
       "      <td>5</td>\n",
       "      <td>100</td>\n",
       "      <td>\\nDisposable disinfecting wipes offer a quick ...</td>\n",
       "      <td>[{'@type': 'HowToSection', 'name': 'Creating S...</td>\n",
       "    </tr>\n",
       "    <tr>\n",
       "      <th>4</th>\n",
       "      <td>2020-03-28</td>\n",
       "      <td>4 Easy Ways to Take the U.S. Census - wikiHow</td>\n",
       "      <td>2020-03-06</td>\n",
       "      <td>2020-03-23</td>\n",
       "      <td>6,608</td>\n",
       "      <td>5</td>\n",
       "      <td>100</td>\n",
       "      <td>\\nEvery 10 years, the U.S. government carries ...</td>\n",
       "      <td>[{'@type': 'HowToSection', 'name': 'Responding...</td>\n",
       "    </tr>\n",
       "  </tbody>\n",
       "</table>\n",
       "</div>"
      ],
      "text/plain": [
       "  date_crawled                                              title  \\\n",
       "0   2020-03-28  How to Make Hand Sanitizer: 8 Steps (with Pict...   \n",
       "1   2020-03-28                       3 Ways to Play UNO - wikiHow   \n",
       "2   2020-03-28  3 Easy Ways to Stay Productive While Working f...   \n",
       "3   2020-03-28  How to Make Disinfectant Wipes: 14 Steps (with...   \n",
       "4   2020-03-28      4 Easy Ways to Take the U.S. Census - wikiHow   \n",
       "\n",
       "  date_published date_modified    n_views  n_votes  mean_votes  \\\n",
       "0     2008-03-09    2020-03-20  1,962,384       92          91   \n",
       "1     2007-07-28    2020-03-27  2,877,878      200          74   \n",
       "2     2020-03-13    2020-03-26      3,742        9          78   \n",
       "3     2020-03-12    2020-03-25      5,348        5         100   \n",
       "4     2020-03-06    2020-03-23      6,608        5         100   \n",
       "\n",
       "                                         description  \\\n",
       "0  \\nWashing your hands with soap is better, but ...   \n",
       "1  \\nIf you're looking for a fun card game to pla...   \n",
       "2  \\nWorking from home offers a wonderful level o...   \n",
       "3  \\nDisposable disinfecting wipes offer a quick ...   \n",
       "4  \\nEvery 10 years, the U.S. government carries ...   \n",
       "\n",
       "                                               steps  \n",
       "0  [{'@type': 'HowToSection', 'name': 'Alcohol-Ba...  \n",
       "1  [{'@type': 'HowToSection', 'name': 'Jumping in...  \n",
       "2  [{'@type': 'HowToSection', 'name': 'Organizing...  \n",
       "3  [{'@type': 'HowToSection', 'name': 'Creating S...  \n",
       "4  [{'@type': 'HowToSection', 'name': 'Responding...  "
      ]
     },
     "execution_count": 150,
     "metadata": {},
     "output_type": "execute_result"
    }
   ],
   "source": [
    "df.head()"
   ]
  },
  {
   "cell_type": "markdown",
   "metadata": {},
   "source": [
    "## Feature Selection and Extraction\n",
    "\n",
    "ref: https://towardsdatascience.com/text-preprocessing-steps-and-universal-pipeline-94233cb6725a?gi=3ae959754bd9\n"
   ]
  },
  {
   "cell_type": "code",
   "execution_count": 168,
   "metadata": {},
   "outputs": [],
   "source": [
    "# 0- concat title and description since we use just them \n",
    "df['text'] = df['title'] + df['description']"
   ]
  },
  {
   "cell_type": "code",
   "execution_count": 169,
   "metadata": {},
   "outputs": [],
   "source": [
    "# import nltk\n",
    "# nltk.download('punkt')"
   ]
  },
  {
   "cell_type": "code",
   "execution_count": 170,
   "metadata": {},
   "outputs": [],
   "source": [
    "# 1. tokenize description and description\n",
    "df['text'] = df['text'].apply(word_tokenize)"
   ]
  },
  {
   "cell_type": "code",
   "execution_count": 171,
   "metadata": {},
   "outputs": [],
   "source": [
    "# 2- convet upper case to lower case\n",
    "df['text'] = df['text'].apply(lambda token: [w.lower() for w in token])"
   ]
  },
  {
   "cell_type": "code",
   "execution_count": 172,
   "metadata": {},
   "outputs": [],
   "source": [
    "# 3- remove punctuation\n",
    "table = str.maketrans('','', string.punctuation)\n",
    "df['text'] = df['text'].apply(lambda token: [w.translate(table) for w in token])"
   ]
  },
  {
   "cell_type": "code",
   "execution_count": 173,
   "metadata": {},
   "outputs": [],
   "source": [
    "# 4- remian just alphabet tockens\n",
    "df['text'] = df['text'].apply(lambda token: [w for w in token if w.isalpha()])"
   ]
  },
  {
   "cell_type": "code",
   "execution_count": 174,
   "metadata": {},
   "outputs": [],
   "source": [
    "# Download Stop words\n",
    "# import nltk\n",
    "# nltk.download('stopwords')"
   ]
  },
  {
   "cell_type": "code",
   "execution_count": 175,
   "metadata": {},
   "outputs": [],
   "source": [
    "# 5- remove stop words\n",
    "stop_words = set(stopwords.words('english'))\n",
    "stop_words.update({'make', 'steps', 'step', 'easy', 'ways', 'way', 'wikihow', 'also'})\n",
    "df['text'] = df['text'].apply(lambda token: [w for w in token if not w in stop_words])"
   ]
  },
  {
   "cell_type": "code",
   "execution_count": 183,
   "metadata": {},
   "outputs": [],
   "source": [
    "# 6- Normalize text \n",
    "porter = PorterStemmer()\n",
    "df['text'] = df['text'].apply(lambda token: [porter.stem(w) for w in token])"
   ]
  },
  {
   "cell_type": "code",
   "execution_count": 184,
   "metadata": {},
   "outputs": [],
   "source": [
    "# TFidf identifier\n",
    "tfidf = TfidfVectorizer()\n",
    "features_vector = tfidf.fit_transform(df['text'].apply(lambda token: \" \".join(token)))"
   ]
  },
  {
   "cell_type": "code",
   "execution_count": 186,
   "metadata": {},
   "outputs": [],
   "source": [
    "features_df = pd.DataFrame(features_vector.toarray(), columns=tfidf.get_feature_names())"
   ]
  },
  {
   "cell_type": "markdown",
   "metadata": {},
   "source": [
    "# Clustering \n",
    "\n",
    "https://medium.com/@adriensieg/text-similarities-da019229c894"
   ]
  },
  {
   "cell_type": "code",
   "execution_count": 241,
   "metadata": {},
   "outputs": [],
   "source": [
    "# choose optimum number of cluser\n",
    "def get_cluster_number(df):\n",
    "    score_list = []\n",
    "    for c in range(2, 6):\n",
    "        kmeans = KMeans(n_clusters=c, random_state=0).fit(features_df)\n",
    "        score_list.append((c, silhouette_score(features_df, kmeans.labels_)))\n",
    "    score_list.sort(key=lambda x: x[1], reverse=True)\n",
    "    return score_list[0][0]"
   ]
  },
  {
   "cell_type": "code",
   "execution_count": 246,
   "metadata": {},
   "outputs": [],
   "source": [
    "kmeans = KMeans(n_clusters=get_cluster_number(features_df), random_state=0).fit(features_df)\n",
    "df['class_label'] = kmeans.labels_"
   ]
  },
  {
   "cell_type": "code",
   "execution_count": 247,
   "metadata": {},
   "outputs": [
    {
     "data": {
      "text/html": [
       "<div>\n",
       "<style scoped>\n",
       "    .dataframe tbody tr th:only-of-type {\n",
       "        vertical-align: middle;\n",
       "    }\n",
       "\n",
       "    .dataframe tbody tr th {\n",
       "        vertical-align: top;\n",
       "    }\n",
       "\n",
       "    .dataframe thead th {\n",
       "        text-align: right;\n",
       "    }\n",
       "</style>\n",
       "<table border=\"1\" class=\"dataframe\">\n",
       "  <thead>\n",
       "    <tr style=\"text-align: right;\">\n",
       "      <th></th>\n",
       "      <th>date_crawled</th>\n",
       "      <th>title</th>\n",
       "      <th>date_published</th>\n",
       "      <th>date_modified</th>\n",
       "      <th>n_views</th>\n",
       "      <th>n_votes</th>\n",
       "      <th>mean_votes</th>\n",
       "      <th>description</th>\n",
       "      <th>steps</th>\n",
       "      <th>text</th>\n",
       "      <th>class_label</th>\n",
       "    </tr>\n",
       "  </thead>\n",
       "  <tbody>\n",
       "    <tr>\n",
       "      <th>0</th>\n",
       "      <td>2020-03-28</td>\n",
       "      <td>How to Make Hand Sanitizer: 8 Steps (with Pict...</td>\n",
       "      <td>2008-03-09</td>\n",
       "      <td>2020-03-20</td>\n",
       "      <td>1,962,384</td>\n",
       "      <td>92</td>\n",
       "      <td>91</td>\n",
       "      <td>\\nWashing your hands with soap is better, but ...</td>\n",
       "      <td>[{'@type': 'HowToSection', 'name': 'Alcohol-Ba...</td>\n",
       "      <td>[hand, sanit, pictur, wash, hand, soap, better...</td>\n",
       "      <td>2</td>\n",
       "    </tr>\n",
       "    <tr>\n",
       "      <th>1</th>\n",
       "      <td>2020-03-28</td>\n",
       "      <td>3 Ways to Play UNO - wikiHow</td>\n",
       "      <td>2007-07-28</td>\n",
       "      <td>2020-03-27</td>\n",
       "      <td>2,877,878</td>\n",
       "      <td>200</td>\n",
       "      <td>74</td>\n",
       "      <td>\\nIf you're looking for a fun card game to pla...</td>\n",
       "      <td>[{'@type': 'HowToSection', 'name': 'Jumping in...</td>\n",
       "      <td>[play, uno, look, fun, card, game, play, frien...</td>\n",
       "      <td>1</td>\n",
       "    </tr>\n",
       "    <tr>\n",
       "      <th>2</th>\n",
       "      <td>2020-03-28</td>\n",
       "      <td>3 Easy Ways to Stay Productive While Working f...</td>\n",
       "      <td>2020-03-13</td>\n",
       "      <td>2020-03-26</td>\n",
       "      <td>3,742</td>\n",
       "      <td>9</td>\n",
       "      <td>78</td>\n",
       "      <td>\\nWorking from home offers a wonderful level o...</td>\n",
       "      <td>[{'@type': 'HowToSection', 'name': 'Organizing...</td>\n",
       "      <td>[stay, product, work, home, work, home, offer,...</td>\n",
       "      <td>0</td>\n",
       "    </tr>\n",
       "    <tr>\n",
       "      <th>3</th>\n",
       "      <td>2020-03-28</td>\n",
       "      <td>How to Make Disinfectant Wipes: 14 Steps (with...</td>\n",
       "      <td>2020-03-12</td>\n",
       "      <td>2020-03-25</td>\n",
       "      <td>5,348</td>\n",
       "      <td>5</td>\n",
       "      <td>100</td>\n",
       "      <td>\\nDisposable disinfecting wipes offer a quick ...</td>\n",
       "      <td>[{'@type': 'HowToSection', 'name': 'Creating S...</td>\n",
       "      <td>[disinfect, wipe, pictur, dispos, disinfect, w...</td>\n",
       "      <td>2</td>\n",
       "    </tr>\n",
       "    <tr>\n",
       "      <th>4</th>\n",
       "      <td>2020-03-28</td>\n",
       "      <td>4 Easy Ways to Take the U.S. Census - wikiHow</td>\n",
       "      <td>2020-03-06</td>\n",
       "      <td>2020-03-23</td>\n",
       "      <td>6,608</td>\n",
       "      <td>5</td>\n",
       "      <td>100</td>\n",
       "      <td>\\nEvery 10 years, the U.S. government carries ...</td>\n",
       "      <td>[{'@type': 'HowToSection', 'name': 'Responding...</td>\n",
       "      <td>[take, us, censu, everi, year, us, govern, car...</td>\n",
       "      <td>0</td>\n",
       "    </tr>\n",
       "    <tr>\n",
       "      <th>5</th>\n",
       "      <td>2020-03-28</td>\n",
       "      <td>Easy Ways to Disinfect Your Devices: 11 Steps ...</td>\n",
       "      <td>2020-03-16</td>\n",
       "      <td>2020-03-27</td>\n",
       "      <td>2,634</td>\n",
       "      <td>0</td>\n",
       "      <td>0</td>\n",
       "      <td>\\nWith the coronavirus COVID-19 making its way...</td>\n",
       "      <td>[{'@type': 'HowToSection', 'name': 'Disinfecti...</td>\n",
       "      <td>[disinfect, devic, coronaviru, make, commun, a...</td>\n",
       "      <td>2</td>\n",
       "    </tr>\n",
       "  </tbody>\n",
       "</table>\n",
       "</div>"
      ],
      "text/plain": [
       "  date_crawled                                              title  \\\n",
       "0   2020-03-28  How to Make Hand Sanitizer: 8 Steps (with Pict...   \n",
       "1   2020-03-28                       3 Ways to Play UNO - wikiHow   \n",
       "2   2020-03-28  3 Easy Ways to Stay Productive While Working f...   \n",
       "3   2020-03-28  How to Make Disinfectant Wipes: 14 Steps (with...   \n",
       "4   2020-03-28      4 Easy Ways to Take the U.S. Census - wikiHow   \n",
       "5   2020-03-28  Easy Ways to Disinfect Your Devices: 11 Steps ...   \n",
       "\n",
       "  date_published date_modified    n_views  n_votes  mean_votes  \\\n",
       "0     2008-03-09    2020-03-20  1,962,384       92          91   \n",
       "1     2007-07-28    2020-03-27  2,877,878      200          74   \n",
       "2     2020-03-13    2020-03-26      3,742        9          78   \n",
       "3     2020-03-12    2020-03-25      5,348        5         100   \n",
       "4     2020-03-06    2020-03-23      6,608        5         100   \n",
       "5     2020-03-16    2020-03-27      2,634        0           0   \n",
       "\n",
       "                                         description  \\\n",
       "0  \\nWashing your hands with soap is better, but ...   \n",
       "1  \\nIf you're looking for a fun card game to pla...   \n",
       "2  \\nWorking from home offers a wonderful level o...   \n",
       "3  \\nDisposable disinfecting wipes offer a quick ...   \n",
       "4  \\nEvery 10 years, the U.S. government carries ...   \n",
       "5  \\nWith the coronavirus COVID-19 making its way...   \n",
       "\n",
       "                                               steps  \\\n",
       "0  [{'@type': 'HowToSection', 'name': 'Alcohol-Ba...   \n",
       "1  [{'@type': 'HowToSection', 'name': 'Jumping in...   \n",
       "2  [{'@type': 'HowToSection', 'name': 'Organizing...   \n",
       "3  [{'@type': 'HowToSection', 'name': 'Creating S...   \n",
       "4  [{'@type': 'HowToSection', 'name': 'Responding...   \n",
       "5  [{'@type': 'HowToSection', 'name': 'Disinfecti...   \n",
       "\n",
       "                                                text  class_label  \n",
       "0  [hand, sanit, pictur, wash, hand, soap, better...            2  \n",
       "1  [play, uno, look, fun, card, game, play, frien...            1  \n",
       "2  [stay, product, work, home, work, home, offer,...            0  \n",
       "3  [disinfect, wipe, pictur, dispos, disinfect, w...            2  \n",
       "4  [take, us, censu, everi, year, us, govern, car...            0  \n",
       "5  [disinfect, devic, coronaviru, make, commun, a...            2  "
      ]
     },
     "execution_count": 247,
     "metadata": {},
     "output_type": "execute_result"
    }
   ],
   "source": [
    "df"
   ]
  },
  {
   "cell_type": "code",
   "execution_count": 249,
   "metadata": {},
   "outputs": [
    {
     "data": {
      "text/plain": [
       "3"
      ]
     },
     "execution_count": 249,
     "metadata": {},
     "output_type": "execute_result"
    }
   ],
   "source": [
    "len(kmeans.cluster_centers_)"
   ]
  },
  {
   "cell_type": "code",
   "execution_count": null,
   "metadata": {},
   "outputs": [],
   "source": []
  }
 ],
 "metadata": {
  "kernelspec": {
   "display_name": "Data Engineering",
   "language": "python",
   "name": "data_engineering"
  },
  "language_info": {
   "codemirror_mode": {
    "name": "ipython",
    "version": 3
   },
   "file_extension": ".py",
   "mimetype": "text/x-python",
   "name": "python",
   "nbconvert_exporter": "python",
   "pygments_lexer": "ipython3",
   "version": "3.6.9"
  }
 },
 "nbformat": 4,
 "nbformat_minor": 4
}
