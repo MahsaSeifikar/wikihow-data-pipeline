{
 "cells": [
  {
   "cell_type": "markdown",
   "metadata": {},
   "source": [
    "# Event Tracking on WikiHow Website"
   ]
  },
  {
   "cell_type": "code",
   "execution_count": 59,
   "metadata": {},
   "outputs": [],
   "source": [
    "import os\n",
    "\n",
    "import pandas as pd\n",
    "import nltk\n",
    "from nltk.tokenize import word_tokenize"
   ]
  },
  {
   "cell_type": "code",
   "execution_count": 60,
   "metadata": {},
   "outputs": [
    {
     "name": "stderr",
     "output_type": "stream",
     "text": [
      "[nltk_data] Downloading package punkt to /home/mahsa/nltk_data...\n",
      "[nltk_data]   Unzipping tokenizers/punkt.zip.\n"
     ]
    },
    {
     "data": {
      "text/plain": [
       "True"
      ]
     },
     "execution_count": 60,
     "metadata": {},
     "output_type": "execute_result"
    }
   ],
   "source": [
    "nltk.download('punkt')"
   ]
  },
  {
   "cell_type": "markdown",
   "metadata": {},
   "source": [
    "## Data Collection"
   ]
  },
  {
   "cell_type": "code",
   "execution_count": 7,
   "metadata": {},
   "outputs": [],
   "source": [
    "DATA_PATH = os.path.dirname(os.getcwd())+'/data/processed/trend/'"
   ]
  },
  {
   "cell_type": "code",
   "execution_count": 42,
   "metadata": {},
   "outputs": [],
   "source": [
    "df = pd.DataFrame()\n",
    "for file in os.listdir(DATA_PATH):\n",
    "    df = df.append(pd.read_csv(os.path.join(DATA_PATH, file), index_col=0), ignore_index=True)"
   ]
  },
  {
   "cell_type": "code",
   "execution_count": 46,
   "metadata": {},
   "outputs": [
    {
     "data": {
      "text/html": [
       "<div>\n",
       "<style scoped>\n",
       "    .dataframe tbody tr th:only-of-type {\n",
       "        vertical-align: middle;\n",
       "    }\n",
       "\n",
       "    .dataframe tbody tr th {\n",
       "        vertical-align: top;\n",
       "    }\n",
       "\n",
       "    .dataframe thead th {\n",
       "        text-align: right;\n",
       "    }\n",
       "</style>\n",
       "<table border=\"1\" class=\"dataframe\">\n",
       "  <thead>\n",
       "    <tr style=\"text-align: right;\">\n",
       "      <th></th>\n",
       "      <th>date_crawled</th>\n",
       "      <th>title</th>\n",
       "      <th>date_published</th>\n",
       "      <th>date_modified</th>\n",
       "      <th>n_views</th>\n",
       "      <th>n_votes</th>\n",
       "      <th>mean_votes</th>\n",
       "      <th>description</th>\n",
       "      <th>steps</th>\n",
       "    </tr>\n",
       "  </thead>\n",
       "  <tbody>\n",
       "    <tr>\n",
       "      <th>0</th>\n",
       "      <td>2020-03-28</td>\n",
       "      <td>How to Make Hand Sanitizer: 8 Steps (with Pict...</td>\n",
       "      <td>2008-03-09</td>\n",
       "      <td>2020-03-20</td>\n",
       "      <td>1,962,384</td>\n",
       "      <td>92</td>\n",
       "      <td>91</td>\n",
       "      <td>How to Make Hand Sanitizer. Washing your hands...</td>\n",
       "      <td>[{'@type': 'HowToSection', 'name': 'Alcohol-Ba...</td>\n",
       "    </tr>\n",
       "    <tr>\n",
       "      <th>1</th>\n",
       "      <td>2020-03-28</td>\n",
       "      <td>3 Ways to Play UNO - wikiHow</td>\n",
       "      <td>2007-07-28</td>\n",
       "      <td>2020-03-27</td>\n",
       "      <td>2,877,878</td>\n",
       "      <td>200</td>\n",
       "      <td>74</td>\n",
       "      <td>How to Play UNO. If you're looking for a fun c...</td>\n",
       "      <td>[{'@type': 'HowToSection', 'name': 'Jumping in...</td>\n",
       "    </tr>\n",
       "    <tr>\n",
       "      <th>2</th>\n",
       "      <td>2020-03-28</td>\n",
       "      <td>3 Easy Ways to Stay Productive While Working f...</td>\n",
       "      <td>2020-03-13</td>\n",
       "      <td>2020-03-26</td>\n",
       "      <td>3,742</td>\n",
       "      <td>9</td>\n",
       "      <td>78</td>\n",
       "      <td>How to Stay Productive While Working from Home...</td>\n",
       "      <td>[{'@type': 'HowToSection', 'name': 'Organizing...</td>\n",
       "    </tr>\n",
       "    <tr>\n",
       "      <th>3</th>\n",
       "      <td>2020-03-28</td>\n",
       "      <td>How to Make Disinfectant Wipes: 14 Steps (with...</td>\n",
       "      <td>2020-03-12</td>\n",
       "      <td>2020-03-25</td>\n",
       "      <td>5,348</td>\n",
       "      <td>5</td>\n",
       "      <td>100</td>\n",
       "      <td>How to Make Disinfectant Wipes. Disposable dis...</td>\n",
       "      <td>[{'@type': 'HowToSection', 'name': 'Creating S...</td>\n",
       "    </tr>\n",
       "    <tr>\n",
       "      <th>4</th>\n",
       "      <td>2020-03-28</td>\n",
       "      <td>4 Easy Ways to Take the U.S. Census - wikiHow</td>\n",
       "      <td>2020-03-06</td>\n",
       "      <td>2020-03-23</td>\n",
       "      <td>6,608</td>\n",
       "      <td>5</td>\n",
       "      <td>100</td>\n",
       "      <td>How to Take the U.S. Census. Every 10 years, t...</td>\n",
       "      <td>[{'@type': 'HowToSection', 'name': 'Responding...</td>\n",
       "    </tr>\n",
       "  </tbody>\n",
       "</table>\n",
       "</div>"
      ],
      "text/plain": [
       "  date_crawled                                              title  \\\n",
       "0   2020-03-28  How to Make Hand Sanitizer: 8 Steps (with Pict...   \n",
       "1   2020-03-28                       3 Ways to Play UNO - wikiHow   \n",
       "2   2020-03-28  3 Easy Ways to Stay Productive While Working f...   \n",
       "3   2020-03-28  How to Make Disinfectant Wipes: 14 Steps (with...   \n",
       "4   2020-03-28      4 Easy Ways to Take the U.S. Census - wikiHow   \n",
       "\n",
       "  date_published date_modified    n_views  n_votes  mean_votes  \\\n",
       "0     2008-03-09    2020-03-20  1,962,384       92          91   \n",
       "1     2007-07-28    2020-03-27  2,877,878      200          74   \n",
       "2     2020-03-13    2020-03-26      3,742        9          78   \n",
       "3     2020-03-12    2020-03-25      5,348        5         100   \n",
       "4     2020-03-06    2020-03-23      6,608        5         100   \n",
       "\n",
       "                                         description  \\\n",
       "0  How to Make Hand Sanitizer. Washing your hands...   \n",
       "1  How to Play UNO. If you're looking for a fun c...   \n",
       "2  How to Stay Productive While Working from Home...   \n",
       "3  How to Make Disinfectant Wipes. Disposable dis...   \n",
       "4  How to Take the U.S. Census. Every 10 years, t...   \n",
       "\n",
       "                                               steps  \n",
       "0  [{'@type': 'HowToSection', 'name': 'Alcohol-Ba...  \n",
       "1  [{'@type': 'HowToSection', 'name': 'Jumping in...  \n",
       "2  [{'@type': 'HowToSection', 'name': 'Organizing...  \n",
       "3  [{'@type': 'HowToSection', 'name': 'Creating S...  \n",
       "4  [{'@type': 'HowToSection', 'name': 'Responding...  "
      ]
     },
     "execution_count": 46,
     "metadata": {},
     "output_type": "execute_result"
    }
   ],
   "source": [
    "df.head()"
   ]
  },
  {
   "cell_type": "markdown",
   "metadata": {},
   "source": [
    "## Data Cleaning\n",
    "\n",
    "ref: https://towardsdatascience.com/text-preprocessing-steps-and-universal-pipeline-94233cb6725a?gi=3ae959754bd9\n"
   ]
  },
  {
   "cell_type": "code",
   "execution_count": 61,
   "metadata": {},
   "outputs": [],
   "source": [
    "# 1. tokenize description and description\n",
    "df['title'] = df['title'].apply(word_tokenize)"
   ]
  },
  {
   "cell_type": "code",
   "execution_count": 62,
   "metadata": {},
   "outputs": [
    {
     "data": {
      "text/html": [
       "<div>\n",
       "<style scoped>\n",
       "    .dataframe tbody tr th:only-of-type {\n",
       "        vertical-align: middle;\n",
       "    }\n",
       "\n",
       "    .dataframe tbody tr th {\n",
       "        vertical-align: top;\n",
       "    }\n",
       "\n",
       "    .dataframe thead th {\n",
       "        text-align: right;\n",
       "    }\n",
       "</style>\n",
       "<table border=\"1\" class=\"dataframe\">\n",
       "  <thead>\n",
       "    <tr style=\"text-align: right;\">\n",
       "      <th></th>\n",
       "      <th>date_crawled</th>\n",
       "      <th>title</th>\n",
       "      <th>date_published</th>\n",
       "      <th>date_modified</th>\n",
       "      <th>n_views</th>\n",
       "      <th>n_votes</th>\n",
       "      <th>mean_votes</th>\n",
       "      <th>description</th>\n",
       "      <th>steps</th>\n",
       "    </tr>\n",
       "  </thead>\n",
       "  <tbody>\n",
       "    <tr>\n",
       "      <th>0</th>\n",
       "      <td>2020-03-28</td>\n",
       "      <td>[How, to, Make, Hand, Sanitizer, :, 8, Steps, ...</td>\n",
       "      <td>2008-03-09</td>\n",
       "      <td>2020-03-20</td>\n",
       "      <td>1,962,384</td>\n",
       "      <td>92</td>\n",
       "      <td>91</td>\n",
       "      <td>How to Make Hand Sanitizer. Washing your hands...</td>\n",
       "      <td>[{'@type': 'HowToSection', 'name': 'Alcohol-Ba...</td>\n",
       "    </tr>\n",
       "    <tr>\n",
       "      <th>1</th>\n",
       "      <td>2020-03-28</td>\n",
       "      <td>[3, Ways, to, Play, UNO, -, wikiHow]</td>\n",
       "      <td>2007-07-28</td>\n",
       "      <td>2020-03-27</td>\n",
       "      <td>2,877,878</td>\n",
       "      <td>200</td>\n",
       "      <td>74</td>\n",
       "      <td>How to Play UNO. If you're looking for a fun c...</td>\n",
       "      <td>[{'@type': 'HowToSection', 'name': 'Jumping in...</td>\n",
       "    </tr>\n",
       "    <tr>\n",
       "      <th>2</th>\n",
       "      <td>2020-03-28</td>\n",
       "      <td>[3, Easy, Ways, to, Stay, Productive, While, W...</td>\n",
       "      <td>2020-03-13</td>\n",
       "      <td>2020-03-26</td>\n",
       "      <td>3,742</td>\n",
       "      <td>9</td>\n",
       "      <td>78</td>\n",
       "      <td>How to Stay Productive While Working from Home...</td>\n",
       "      <td>[{'@type': 'HowToSection', 'name': 'Organizing...</td>\n",
       "    </tr>\n",
       "    <tr>\n",
       "      <th>3</th>\n",
       "      <td>2020-03-28</td>\n",
       "      <td>[How, to, Make, Disinfectant, Wipes, :, 14, St...</td>\n",
       "      <td>2020-03-12</td>\n",
       "      <td>2020-03-25</td>\n",
       "      <td>5,348</td>\n",
       "      <td>5</td>\n",
       "      <td>100</td>\n",
       "      <td>How to Make Disinfectant Wipes. Disposable dis...</td>\n",
       "      <td>[{'@type': 'HowToSection', 'name': 'Creating S...</td>\n",
       "    </tr>\n",
       "    <tr>\n",
       "      <th>4</th>\n",
       "      <td>2020-03-28</td>\n",
       "      <td>[4, Easy, Ways, to, Take, the, U.S., Census, -...</td>\n",
       "      <td>2020-03-06</td>\n",
       "      <td>2020-03-23</td>\n",
       "      <td>6,608</td>\n",
       "      <td>5</td>\n",
       "      <td>100</td>\n",
       "      <td>How to Take the U.S. Census. Every 10 years, t...</td>\n",
       "      <td>[{'@type': 'HowToSection', 'name': 'Responding...</td>\n",
       "    </tr>\n",
       "  </tbody>\n",
       "</table>\n",
       "</div>"
      ],
      "text/plain": [
       "  date_crawled                                              title  \\\n",
       "0   2020-03-28  [How, to, Make, Hand, Sanitizer, :, 8, Steps, ...   \n",
       "1   2020-03-28               [3, Ways, to, Play, UNO, -, wikiHow]   \n",
       "2   2020-03-28  [3, Easy, Ways, to, Stay, Productive, While, W...   \n",
       "3   2020-03-28  [How, to, Make, Disinfectant, Wipes, :, 14, St...   \n",
       "4   2020-03-28  [4, Easy, Ways, to, Take, the, U.S., Census, -...   \n",
       "\n",
       "  date_published date_modified    n_views  n_votes  mean_votes  \\\n",
       "0     2008-03-09    2020-03-20  1,962,384       92          91   \n",
       "1     2007-07-28    2020-03-27  2,877,878      200          74   \n",
       "2     2020-03-13    2020-03-26      3,742        9          78   \n",
       "3     2020-03-12    2020-03-25      5,348        5         100   \n",
       "4     2020-03-06    2020-03-23      6,608        5         100   \n",
       "\n",
       "                                         description  \\\n",
       "0  How to Make Hand Sanitizer. Washing your hands...   \n",
       "1  How to Play UNO. If you're looking for a fun c...   \n",
       "2  How to Stay Productive While Working from Home...   \n",
       "3  How to Make Disinfectant Wipes. Disposable dis...   \n",
       "4  How to Take the U.S. Census. Every 10 years, t...   \n",
       "\n",
       "                                               steps  \n",
       "0  [{'@type': 'HowToSection', 'name': 'Alcohol-Ba...  \n",
       "1  [{'@type': 'HowToSection', 'name': 'Jumping in...  \n",
       "2  [{'@type': 'HowToSection', 'name': 'Organizing...  \n",
       "3  [{'@type': 'HowToSection', 'name': 'Creating S...  \n",
       "4  [{'@type': 'HowToSection', 'name': 'Responding...  "
      ]
     },
     "execution_count": 62,
     "metadata": {},
     "output_type": "execute_result"
    }
   ],
   "source": [
    "df.head()"
   ]
  },
  {
   "cell_type": "code",
   "execution_count": null,
   "metadata": {},
   "outputs": [],
   "source": []
  },
  {
   "cell_type": "code",
   "execution_count": null,
   "metadata": {},
   "outputs": [],
   "source": []
  }
 ],
 "metadata": {
  "kernelspec": {
   "display_name": "Data Engineering",
   "language": "python",
   "name": "data_engineering"
  },
  "language_info": {
   "codemirror_mode": {
    "name": "ipython",
    "version": 3
   },
   "file_extension": ".py",
   "mimetype": "text/x-python",
   "name": "python",
   "nbconvert_exporter": "python",
   "pygments_lexer": "ipython3",
   "version": "3.6.9"
  }
 },
 "nbformat": 4,
 "nbformat_minor": 4
}
